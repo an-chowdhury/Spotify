{
 "cells": [
  {
   "cell_type": "code",
   "execution_count": 1,
   "metadata": {},
   "outputs": [],
   "source": [
    "import pandas as pd\n",
    "import json\n",
    "import spotipy\n",
    "from spotipy.oauth2 import SpotifyClientCredentials\n",
    "import spotipy.util as util"
   ]
  },
  {
   "cell_type": "code",
   "execution_count": 2,
   "metadata": {},
   "outputs": [],
   "source": [
    "username='y93w0ybwx5h0wqatvy9nd3gmg'\n",
    "client_id='997a1f4255b64596bb14e77a51445f93'\n",
    "client_secret='0ede5e9e49904309a1c657f3e03531a7'\n",
    "redirect_uri='http://localhost:7777/callback'"
   ]
  },
  {
   "cell_type": "code",
   "execution_count": 22,
   "metadata": {},
   "outputs": [],
   "source": [
    "scope = 'user-read-playback-state' #check documantation for scopes \n",
    "token = util.prompt_for_user_token(username, scope, client_id='997a1f4255b64596bb14e77a51445f93', \n",
    "                                   client_secret='0ede5e9e49904309a1c657f3e03531a7',\n",
    "                                   redirect_uri='http://localhost:7777/callback')\n",
    "if token:\n",
    "    sp = spotipy.Spotify(auth=token)\n",
    "else:\n",
    "    print(\"Can't get token for\", username)"
   ]
  },
  {
   "cell_type": "code",
   "execution_count": 4,
   "metadata": {},
   "outputs": [],
   "source": [
    "categories=sp.categories(country='IN', locale='ben_IN', limit=20, offset=0)\n",
    "categories_id=[]\n",
    "for j in range(len(categories['categories']['items'])):\n",
    "    categories_id.append(categories['categories']['items'][j]['id'])"
   ]
  },
  {
   "cell_type": "code",
   "execution_count": 5,
   "metadata": {},
   "outputs": [],
   "source": [
    "def track_details(cat_id):\n",
    "    playlists_uri=[]\n",
    "    playlists_total=[]\n",
    "\n",
    "\n",
    "    category_playlists=sp.category_playlists(category_id=cat_id, country='IN', limit=20, offset=0)\n",
    "    for i in range(len(category_playlists['playlists']['items'])):\n",
    "        playlists_uri.append(category_playlists['playlists']['items'][i]['uri'])\n",
    "        playlists_total.append(category_playlists['playlists']['items'][i]['tracks']['total'])\n",
    "        \n",
    "        \n",
    "        playlist_track_name=[]\n",
    "        playlist_artists=[]\n",
    "        playlist_track_uri=[]\n",
    "        playlist_Track_type=[]\n",
    "        track_popularity=[]\n",
    "        \n",
    "        for playlist in playlists_uri:\n",
    "            playlist_tracks=sp.playlist_tracks(playlist_id=playlist, fields=None, limit=100, offset=0, market=None, additional_types=('track', ))\n",
    "            for i in range(len(playlist_tracks['items'])):\n",
    "                playlist_track_name.append(playlist_tracks['items'][i]['track']['name'])\n",
    "                playlist_artists.append(playlist_tracks['items'][i]['track']['artists'][0]['name'])\n",
    "                playlist_track_uri.append(playlist_tracks['items'][i]['track']['uri'])\n",
    "                playlist_Track_type.append(cat_id)\n",
    "                track_popularity.append(playlist_tracks['items'][i]['track']['popularity'])\n",
    "    df=pd.DataFrame(\n",
    "    {\n",
    "    'Track name':playlist_track_name,\n",
    "    'Artist name':playlist_artists,\n",
    "    'Track uri':playlist_track_uri,\n",
    "    'Track type':playlist_Track_type,\n",
    "    'Popularity':track_popularity\n",
    "    }\n",
    "    )\n",
    "    \n",
    "    return df"
   ]
  },
  {
   "cell_type": "code",
   "execution_count": 6,
   "metadata": {},
   "outputs": [],
   "source": [
    "df1=track_details('indie_alt')\n",
    "df3=track_details('at_home')\n",
    "df5=track_details('bollywood')\n",
    "df6=track_details('punjabi')\n",
    "df7=track_details('tamil')\n",
    "df8=track_details('telugu')\n",
    "df9=track_details('pop')"
   ]
  },
  {
   "cell_type": "code",
   "execution_count": 8,
   "metadata": {},
   "outputs": [],
   "source": [
    "df10=track_details('radar')\n",
    "df11=track_details('marathi')\n",
    "df12=track_details('indian_classical')\n",
    "df13=track_details('devotional')\n",
    "df14=track_details('romance')\n",
    "df15=track_details('kpop')\n",
    "df17=track_details('instrumental')\n",
    "df19=track_details('decades')\n",
    "df20=track_details('student')"
   ]
  },
  {
   "cell_type": "code",
   "execution_count": 9,
   "metadata": {},
   "outputs": [],
   "source": [
    "df=df1.append([df3,df5,df6,df7,df8,df9,df10,df11,df12,df13,df14,df15,df17,df19,df20])"
   ]
  },
  {
   "cell_type": "code",
   "execution_count": 10,
   "metadata": {},
   "outputs": [],
   "source": [
    "df.reset_index(drop=True,inplace=True)"
   ]
  },
  {
   "cell_type": "code",
   "execution_count": 11,
   "metadata": {},
   "outputs": [],
   "source": [
    "def fetch_audio_features(t_uri):\n",
    "\n",
    "    track_danceability=[]\n",
    "    track_energy=[]\n",
    "    track_loudness=[]\n",
    "    track_mode=[]\n",
    "    track_speechiness=[]\n",
    "    track_acousticness=[]\n",
    "    track_instrumentalness=[]\n",
    "    track_liveness=[]\n",
    "    track_valence=[]\n",
    "    track_tempo=[]\n",
    "    track_duration_ms=[]\n",
    "    track_tempo=[]\n",
    "    uri=[]\n",
    "    track_key=[]\n",
    "    \n",
    "    for t in t_uri:\n",
    "        try:\n",
    "            #pull audio features per track\n",
    "            features = sp.audio_features(t)\n",
    "            \n",
    "            track_danceability.append(features[0]['danceability'])\n",
    "            track_energy.append(features[0]['energy'])\n",
    "            track_loudness.append(features[0]['loudness'])\n",
    "            track_mode.append(features[0]['mode'])\n",
    "            track_speechiness.append(features[0]['speechiness'])\n",
    "            track_acousticness.append(features[0]['acousticness'])\n",
    "            track_instrumentalness.append(features[0]['instrumentalness'])\n",
    "            track_liveness.append(features[0]['liveness'])\n",
    "            track_valence.append(features[0]['valence'])\n",
    "            track_duration_ms.append(features[0]['duration_ms'])\n",
    "            track_tempo.append(features[0]['tempo'])\n",
    "            uri.append(features[0]['uri'])\n",
    "            track_key.append(features[0]['key'])\n",
    "            \n",
    "        except:\n",
    "            pass\n",
    "        \n",
    "\n",
    "    dfaf = pd.DataFrame(\n",
    "        {\n",
    "        'Danceability':track_danceability,\n",
    "        'Energy':track_energy,\n",
    "        'Loudness':track_loudness,\n",
    "        'Mode':track_mode,\n",
    "        'Speechiness':track_speechiness,\n",
    "        'Acousticness':track_acousticness,\n",
    "        'Instrumentalness':track_instrumentalness,\n",
    "        'Liveness':track_liveness,\n",
    "        'Valence':track_valence,\n",
    "        'Tempo':track_tempo,\n",
    "        'Duration(ms)':track_duration_ms,\n",
    "        'uri':uri,\n",
    "        'Key':track_key,\n",
    "        }\n",
    "    )\n",
    "    \n",
    "    return dfaf"
   ]
  },
  {
   "cell_type": "code",
   "execution_count": 12,
   "metadata": {},
   "outputs": [],
   "source": [
    "t1_uri=df1['Track uri'].tolist()\n",
    "t3_uri=df3['Track uri'].tolist()\n",
    "t5_uri=df5['Track uri'].tolist()\n",
    "t6_uri=df6['Track uri'].tolist()\n",
    "t7_uri=df7['Track uri'].tolist()\n",
    "t8_uri=df8['Track uri'].tolist()\n",
    "t9_uri=df9['Track uri'].tolist()\n",
    "t10_uri=df10['Track uri'].tolist()\n",
    "t11_uri=df11['Track uri'].tolist()\n",
    "t12_uri=df12['Track uri'].tolist()\n",
    "t13_uri=df13['Track uri'].tolist()\n",
    "t14_uri=df14['Track uri'].tolist()\n",
    "t15_uri=df15['Track uri'].tolist()\n",
    "t17_uri=df17['Track uri'].tolist()\n",
    "t19_uri=df19['Track uri'].tolist()\n",
    "t20_uri=df20['Track uri'].tolist()"
   ]
  },
  {
   "cell_type": "code",
   "execution_count": 15,
   "metadata": {},
   "outputs": [],
   "source": [
    "df1_af=fetch_audio_features(t1_uri)\n",
    "\n",
    "df3_af=fetch_audio_features(t3_uri)\n",
    "\n",
    "df5_af=fetch_audio_features(t5_uri)"
   ]
  },
  {
   "cell_type": "code",
   "execution_count": 17,
   "metadata": {},
   "outputs": [],
   "source": [
    "df6_af=fetch_audio_features(t6_uri)\n",
    "\n",
    "df7_af=fetch_audio_features(t7_uri)\n",
    "\n",
    "df8_af=fetch_audio_features(t8_uri)\n",
    "\n",
    "df9_af=fetch_audio_features(t9_uri)"
   ]
  },
  {
   "cell_type": "code",
   "execution_count": 18,
   "metadata": {},
   "outputs": [],
   "source": [
    "df10_af=fetch_audio_features(t10_uri)\n",
    "\n",
    "df11_af=fetch_audio_features(t11_uri)\n",
    "\n",
    "df12_af=fetch_audio_features(t12_uri)"
   ]
  },
  {
   "cell_type": "code",
   "execution_count": 20,
   "metadata": {},
   "outputs": [],
   "source": [
    "df13_af=fetch_audio_features(t13_uri)\n",
    "\n",
    "df14_af=fetch_audio_features(t14_uri)\n",
    "\n",
    "df15_af=fetch_audio_features(t15_uri)"
   ]
  },
  {
   "cell_type": "code",
   "execution_count": 23,
   "metadata": {},
   "outputs": [],
   "source": [
    "df17_af=fetch_audio_features(t17_uri)\n",
    "\n",
    "df19_af=fetch_audio_features(t19_uri)\n",
    "\n",
    "df20_af=fetch_audio_features(t20_uri)"
   ]
  },
  {
   "cell_type": "code",
   "execution_count": 24,
   "metadata": {
    "scrolled": true
   },
   "outputs": [],
   "source": [
    "df_af=df1_af.append([df3_af,df5_af,df6_af,df7_af,df8_af,df9_af,df10_af,df11_af,df12_af,df13_af,df14_af,df15_af,df17_af,df19_af,df20_af])"
   ]
  },
  {
   "cell_type": "code",
   "execution_count": 25,
   "metadata": {},
   "outputs": [],
   "source": [
    "df_final=df.merge(df_af,how='left',left_on='Track uri', right_on='uri')"
   ]
  },
  {
   "cell_type": "code",
   "execution_count": 26,
   "metadata": {},
   "outputs": [],
   "source": [
    "df_final.drop(labels=['uri'],axis=1,inplace=True)"
   ]
  },
  {
   "cell_type": "code",
   "execution_count": 27,
   "metadata": {},
   "outputs": [],
   "source": [
    "df_final.drop_duplicates(inplace=True)"
   ]
  },
  {
   "cell_type": "code",
   "execution_count": 28,
   "metadata": {},
   "outputs": [],
   "source": [
    "df_final['Track type']=df_final['Track type'].apply(lambda x: x.replace('_',' ') if '_' in str(x) else x)\n",
    "df_final['Track type']=df_final['Track type'].apply(lambda x: x.replace('indie alt','Indie') if 'indie alt' in str(x) else x)\n",
    "df_final['Track type']=df_final['Track type'].apply(lambda x: x.replace('kpop','K-pop') if 'kpop' in str(x) else x)\n",
    "df_final['Track type']=df_final['Track type'].str.capitalize()"
   ]
  },
  {
   "cell_type": "code",
   "execution_count": 29,
   "metadata": {},
   "outputs": [],
   "source": [
    "df_final['Track type']=df_final['Track type'].apply(lambda x: x.replace('Radar','RADAR') if 'Radar' in str(x) else x)"
   ]
  },
  {
   "cell_type": "code",
   "execution_count": 31,
   "metadata": {},
   "outputs": [],
   "source": [
    "df_final=df_final.groupby(['Track name','Artist name','Track uri','Popularity','Danceability','Energy','Loudness','Mode','Speechiness','Acousticness','Instrumentalness','Liveness','Valence','Tempo','Duration(ms)','Key'])['Track type'].apply(', '.join).reset_index()"
   ]
  },
  {
   "cell_type": "code",
   "execution_count": 32,
   "metadata": {},
   "outputs": [],
   "source": [
    "df_final.to_csv('Spotify_Final.csv')"
   ]
  }
 ],
 "metadata": {
  "kernelspec": {
   "display_name": "Python 3",
   "language": "python",
   "name": "python3"
  },
  "language_info": {
   "codemirror_mode": {
    "name": "ipython",
    "version": 3
   },
   "file_extension": ".py",
   "mimetype": "text/x-python",
   "name": "python",
   "nbconvert_exporter": "python",
   "pygments_lexer": "ipython3",
   "version": "3.7.6"
  }
 },
 "nbformat": 4,
 "nbformat_minor": 2
}
